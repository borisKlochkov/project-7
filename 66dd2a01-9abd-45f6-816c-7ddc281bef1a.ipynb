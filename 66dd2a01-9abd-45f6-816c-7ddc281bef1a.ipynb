{
 "cells": [
  {
   "cell_type": "markdown",
   "metadata": {},
   "source": [
    "Привет, меня зовут Артем. Сегодня я проверю твой проект.\n",
    "<br> Дальнейшее общение будет происходить на \"ты\" если это не вызывает никаких проблем.\n",
    "<br> Желательно реагировать на каждый мой комментарий ('исправил', 'не понятно как исправить ошибку', ...)\n",
    "<br> Пожалуйста, не удаляй комментарии ревьюера, так как они повышают качество повторного ревью.\n",
    "\n",
    "Комментарии будут в <font color='green'>зеленой</font>, <font color='blue'>синей</font> или <font color='red'>красной</font> рамках:\n",
    "\n",
    "<div class=\"alert alert-block alert-success\">\n",
    "<b>Успех:</b> Если все сделано отлично\n",
    "</div>\n",
    "\n",
    "<div class=\"alert alert-block alert-info\">\n",
    "<b>Совет: </b> Если можно немного улучшить\n",
    "</div>\n",
    "\n",
    "<div class=\"alert alert-block alert-danger\">\n",
    "<b>Ошибка:</b> Если требуются исправления. Работа не может быть принята с красными комментариями.\n",
    "</div>\n",
    "\n",
    "-------------------\n",
    "\n",
    "Будет очень хорошо, если ты будешь помечать свои действия следующим образом:\n",
    "<div class=\"alert alert-block alert-warning\">\n",
    "<b>Комментарий студента:</b> ...\n",
    "</div>\n",
    "\n",
    "<div class=\"alert alert-block alert-warning\">\n",
    "<b>Изменения:</b> Были внесены следующие изменения ...\n",
    "</div>\n",
    "\n",
    "### <font color='orange'>Общее впечатление</font>\n",
    "* Большое спасибо за проделанную работу. Видно, что приложено много усилий.\n",
    "* Радует, что тебе удалось разобраться с техникой бутстрапа.\n",
    "* Отлично, что доверительный интервал и риск убытков посчитаны верно.\n",
    "* Над этим проектом нужно будет еще немного поработать. Однако, изменения не должны занять много времени.\n",
    "* В работе я оставил несколько советов. Буду рад, если ты учтешь их.\n",
    "* С радостью отвечу на твои вопросы, если они есть. Лучше всего их собрать в следующей ячейке. Жду новую версию проекта."
   ]
  },
  {
   "cell_type": "markdown",
   "metadata": {},
   "source": [
    "### <font color='orange'>Общее впечатление (ревью 2)</font>\n",
    "* После исправлений проект улучшился и теперь он может быть зачтен.\n",
    "* Удачи в дальнейшем обучении и следующих работах!"
   ]
  },
  {
   "cell_type": "markdown",
   "metadata": {},
   "source": [
    "# Выбор локации для скважины"
   ]
  },
  {
   "cell_type": "markdown",
   "metadata": {},
   "source": [
    "Допустим, вы работаете в добывающей компании «ГлавРосГосНефть». Нужно решить, где бурить новую скважину.\n",
    "\n",
    "Вам предоставлены пробы нефти в трёх регионах: в каждом 10 000 месторождений, где измерили качество нефти и объём её запасов. Постройте модель машинного обучения, которая поможет определить регион, где добыча принесёт наибольшую прибыль. Проанализируйте возможную прибыль и риски техникой *Bootstrap.*\n",
    "\n",
    "Шаги для выбора локации:\n",
    "\n",
    "- В избранном регионе ищут месторождения, для каждого определяют значения признаков;\n",
    "- Строят модель и оценивают объём запасов;\n",
    "- Выбирают месторождения с самым высокими оценками значений. Количество месторождений зависит от бюджета компании и стоимости разработки одной скважины;\n",
    "- Прибыль равна суммарной прибыли отобранных месторождений."
   ]
  },
  {
   "cell_type": "markdown",
   "metadata": {},
   "source": [
    "## Загрузка и подготовка данных"
   ]
  },
  {
   "cell_type": "markdown",
   "metadata": {},
   "source": [
    "Импортируем библиотеки"
   ]
  },
  {
   "cell_type": "code",
   "execution_count": 1,
   "metadata": {},
   "outputs": [],
   "source": [
    "import pandas as pd\n",
    "import numpy as np\n",
    "import matplotlib.pyplot as plt \n",
    "import itertools\n",
    "from sklearn.model_selection import train_test_split\n",
    "from sklearn.linear_model import LinearRegression\n",
    "from sklearn.pipeline import make_pipeline\n",
    "from sklearn.preprocessing import StandardScaler\n",
    "from sklearn.metrics import mean_squared_error\n",
    "from numpy.random import RandomState\n",
    "from tqdm import tqdm\n"
   ]
  },
  {
   "cell_type": "markdown",
   "metadata": {},
   "source": [
    "<div class=\"alert alert-block alert-success\">\n",
    "<b>Успех:</b> Отлично, что все импорты собраны в первой ячейке ноутбука! Если у того, кто будет запускать твой ноутбук будут отсутствовать некоторые библиотеки, то он это увидит сразу, а не в процессе!\n",
    "</div>"
   ]
  },
  {
   "cell_type": "markdown",
   "metadata": {},
   "source": [
    "Загружаем по отдельности все датасеты"
   ]
  },
  {
   "cell_type": "code",
   "execution_count": 2,
   "metadata": {},
   "outputs": [
    {
     "name": "stdout",
     "output_type": "stream",
     "text": [
      "<class 'pandas.core.frame.DataFrame'>\n",
      "RangeIndex: 100000 entries, 0 to 99999\n",
      "Data columns (total 5 columns):\n",
      " #   Column   Non-Null Count   Dtype  \n",
      "---  ------   --------------   -----  \n",
      " 0   id       100000 non-null  object \n",
      " 1   f0       100000 non-null  float64\n",
      " 2   f1       100000 non-null  float64\n",
      " 3   f2       100000 non-null  float64\n",
      " 4   product  100000 non-null  float64\n",
      "dtypes: float64(4), object(1)\n",
      "memory usage: 3.8+ MB\n"
     ]
    }
   ],
   "source": [
    "geo_data_0 = pd.read_csv('/datasets/geo_data_0.csv')\n",
    "geo_data_0.info()"
   ]
  },
  {
   "cell_type": "code",
   "execution_count": 3,
   "metadata": {},
   "outputs": [
    {
     "name": "stdout",
     "output_type": "stream",
     "text": [
      "<class 'pandas.core.frame.DataFrame'>\n",
      "RangeIndex: 100000 entries, 0 to 99999\n",
      "Data columns (total 5 columns):\n",
      " #   Column   Non-Null Count   Dtype  \n",
      "---  ------   --------------   -----  \n",
      " 0   id       100000 non-null  object \n",
      " 1   f0       100000 non-null  float64\n",
      " 2   f1       100000 non-null  float64\n",
      " 3   f2       100000 non-null  float64\n",
      " 4   product  100000 non-null  float64\n",
      "dtypes: float64(4), object(1)\n",
      "memory usage: 3.8+ MB\n"
     ]
    }
   ],
   "source": [
    "geo_data_1 = pd.read_csv('/datasets/geo_data_1.csv')\n",
    "geo_data_1.info()"
   ]
  },
  {
   "cell_type": "code",
   "execution_count": 4,
   "metadata": {},
   "outputs": [
    {
     "name": "stdout",
     "output_type": "stream",
     "text": [
      "<class 'pandas.core.frame.DataFrame'>\n",
      "RangeIndex: 100000 entries, 0 to 99999\n",
      "Data columns (total 5 columns):\n",
      " #   Column   Non-Null Count   Dtype  \n",
      "---  ------   --------------   -----  \n",
      " 0   id       100000 non-null  object \n",
      " 1   f0       100000 non-null  float64\n",
      " 2   f1       100000 non-null  float64\n",
      " 3   f2       100000 non-null  float64\n",
      " 4   product  100000 non-null  float64\n",
      "dtypes: float64(4), object(1)\n",
      "memory usage: 3.8+ MB\n"
     ]
    }
   ],
   "source": [
    "geo_data_2 = pd.read_csv('/datasets/geo_data_2.csv')\n",
    "geo_data_2.info()\n"
   ]
  },
  {
   "cell_type": "code",
   "execution_count": 5,
   "metadata": {},
   "outputs": [],
   "source": [
    "def check_columns(data_frame):\n",
    "    for column in data_frame.columns:\n",
    "        print(column)\n",
    "        print(data_frame[column].unique())"
   ]
  },
  {
   "cell_type": "code",
   "execution_count": 6,
   "metadata": {},
   "outputs": [
    {
     "name": "stdout",
     "output_type": "stream",
     "text": [
      "id\n",
      "['txEyH' '2acmU' '409Wp' ... '3rnvd' '7kl59' '1CWhH']\n",
      "f0\n",
      "[0.70574498 1.33471129 1.02273226 ... 1.02958465 0.99816289 1.76475393]\n",
      "f1\n",
      "[-0.4978225  -0.34016425  0.15199044 ...  0.01878693 -0.52858167\n",
      " -0.26641676]\n",
      "f2\n",
      "[ 1.22116995  4.36508033  1.41992624 ... -1.34830814  1.58386866\n",
      "  5.72284937]\n",
      "product\n",
      "[105.28006184  73.03775027  85.26564713 ...  64.37544259  74.04076435\n",
      " 149.63324561]\n"
     ]
    }
   ],
   "source": [
    "check_columns(geo_data_0)"
   ]
  },
  {
   "cell_type": "code",
   "execution_count": 7,
   "metadata": {},
   "outputs": [
    {
     "name": "stdout",
     "output_type": "stream",
     "text": [
      "id\n",
      "['kBEdx' '62mP7' 'vyE1P' ... '09gWa' 'rqwUm' 'relB0']\n",
      "f0\n",
      "[-15.00134818  14.27208781   6.26318735 ...  -7.37889139   0.66571381\n",
      "  -3.42613898]\n",
      "f1\n",
      "[-8.27599995 -3.47508322 -5.94838579 ... -3.08410387 -6.15259286\n",
      " -7.7942742 ]\n",
      "f2\n",
      "[-5.87601369e-03  9.99182737e-01  5.00116016e+00 ...  4.99865060e+00\n",
      "  1.00014635e+00 -3.29851829e-03]\n",
      "product\n",
      "[  3.17910258  26.95326103 134.76630516 137.94540774  84.03888568\n",
      " 110.99214671  53.90652206   0.         107.81304413  57.08562465\n",
      "  30.13236361  80.85978309]\n"
     ]
    }
   ],
   "source": [
    "check_columns(geo_data_1)"
   ]
  },
  {
   "cell_type": "code",
   "execution_count": 8,
   "metadata": {},
   "outputs": [
    {
     "name": "stdout",
     "output_type": "stream",
     "text": [
      "id\n",
      "['fwXo0' 'WJtFt' 'ovLUW' ... 'tKPY3' 'nmxp2' 'V9kWn']\n",
      "f0\n",
      "[-1.1469871   0.2627779   0.19458728 ... -1.19993432 -2.41989641\n",
      " -2.55142066]\n",
      "f1\n",
      "[ 0.96332792  0.26983896  0.289035   ... -2.95763723  2.41722066\n",
      " -2.02562514]\n",
      "f2\n",
      "[-0.82896492 -2.53018652 -5.58643277 ...  5.219411   -5.54844392\n",
      "  6.09089066]\n",
      "product\n",
      "[ 27.75867323  56.06969663  62.87191005 ... 157.08007975  51.79525299\n",
      " 102.77576749]\n"
     ]
    }
   ],
   "source": [
    "check_columns(geo_data_2)"
   ]
  },
  {
   "cell_type": "markdown",
   "metadata": {},
   "source": [
    "Удалим ID"
   ]
  },
  {
   "cell_type": "code",
   "execution_count": 9,
   "metadata": {},
   "outputs": [],
   "source": [
    "geo_data_0 = geo_data_0.drop(['id'], axis=1)\n",
    "geo_data_1 = geo_data_1.drop(['id'], axis=1)\n",
    "geo_data_2 = geo_data_2.drop(['id'], axis=1)"
   ]
  },
  {
   "cell_type": "markdown",
   "metadata": {},
   "source": [
    "построим Гистограмму объема скважин"
   ]
  },
  {
   "cell_type": "code",
   "execution_count": 11,
   "metadata": {},
   "outputs": [],
   "source": [
    "def oil_hist(seria, bins, xlim_max, ylim_max):\n",
    "    plt.figure(figsize=[12,9])\n",
    "\n",
    "    plt.hist(seria, bins=bins)\n",
    "\n",
    "    plt.xlim([0,xlim_max])\n",
    "    plt.ylim([0,ylim_max])\n",
    "\n",
    "    plt.xlabel(\"Объем нефти на скважину, тыс. барелей\")\n",
    "    plt.ylabel(\"Количество скважин\")\n",
    "\n",
    "    plt.title(\"Гистограмма распределения по объему скважин\")\n",
    "    plt.show()"
   ]
  },
  {
   "cell_type": "code",
   "execution_count": 13,
   "metadata": {},
   "outputs": [
    {
     "data": {
      "image/png": "[encoded data removed]",
      "text/plain": [
       "<Figure size 864x648 with 1 Axes>"
      ]
     },
     "metadata": {
      "needs_background": "light"
     },
     "output_type": "display_data"
    }
   ],
   "source": [
    "oil_hist(geo_data_0['product'], 250, 200, 1000)"
   ]
  },
  {
   "cell_type": "code",
   "execution_count": 15,
   "metadata": {},
   "outputs": [
    {
     "data": {
      "image/png": "[encoded data removed]",
      "text/plain": [
       "<Figure size 864x648 with 1 Axes>"
      ]
     },
     "metadata": {
      "needs_background": "light"
     },
     "output_type": "display_data"
    }
   ],
   "source": [
    "oil_hist(geo_data_1['product'], 60, 160, 1000)"
   ]
  },
  {
   "cell_type": "code",
   "execution_count": 17,
   "metadata": {},
   "outputs": [
    {
     "data": {
      "image/png": "[encoded data removed]",
      "text/plain": [
       "<Figure size 864x648 with 1 Axes>"
      ]
     },
     "metadata": {
      "needs_background": "light"
     },
     "output_type": "display_data"
    }
   ],
   "source": [
    "oil_hist(geo_data_2['product'], 250, 200, 1000)"
   ]
  },
  {
   "cell_type": "markdown",
   "metadata": {},
   "source": [
    "Признаки для модели:\n",
    "\n",
    "f0;\n",
    "f1;\n",
    "f2.\n",
    "Целевой признак:\n",
    "\n",
    "product."
   ]
  },
  {
   "cell_type": "markdown",
   "metadata": {},
   "source": [
    "ВЫВОД: По гистограммам можно понять, что у первого и третьего региона наспределение скважин близкое к нормальному. Во втором регионе данные имеют странное распределение: от 0 до 5 баррелей с шагом по 15-20 равномерно распределены 100000 значений."
   ]
  },
  {
   "cell_type": "markdown",
   "metadata": {},
   "source": [
    "<div class=\"alert alert-block alert-success\">\n",
    "<b>Успех:</b> Данные загружены и осмотрены корректно. Радует, что распределения были визуализированы!\n",
    "</div>"
   ]
  },
  {
   "cell_type": "markdown",
   "metadata": {},
   "source": [
    "## Обучение и проверка модели"
   ]
  },
  {
   "cell_type": "markdown",
   "metadata": {},
   "source": [
    "Проверим качество моделей"
   ]
  },
  {
   "cell_type": "code",
   "execution_count": null,
   "metadata": {},
   "outputs": [],
   "source": [
    "def test_split(df, target):\n",
    "    features = df.drop([target] , axis=1)\n",
    "    target = df[target]\n",
    "\n",
    "    features_train, features_valid, target_train, target_valid = train_test_split(\n",
    "    features, target, test_size=0.25, random_state=12345)\n",
    "    \n",
    "    return features_train, features_valid, target_train, target_valid\n"
   ]
  },
  {
   "cell_type": "code",
   "execution_count": 20,
   "metadata": {},
   "outputs": [
    {
     "data": {
      "text/html": [
       "<div>\n",
       "<style scoped>\n",
       "    .dataframe tbody tr th:only-of-type {\n",
       "        vertical-align: middle;\n",
       "    }\n",
       "\n",
       "    .dataframe tbody tr th {\n",
       "        vertical-align: top;\n",
       "    }\n",
       "\n",
       "    .dataframe thead th {\n",
       "        text-align: right;\n",
       "    }\n",
       "</style>\n",
       "<table border=\"1\" class=\"dataframe\">\n",
       "  <thead>\n",
       "    <tr style=\"text-align: right;\">\n",
       "      <th></th>\n",
       "      <th>f0</th>\n",
       "      <th>f1</th>\n",
       "      <th>f2</th>\n",
       "    </tr>\n",
       "  </thead>\n",
       "  <tbody>\n",
       "    <tr>\n",
       "      <th>78638</th>\n",
       "      <td>0.602333</td>\n",
       "      <td>-0.445623</td>\n",
       "      <td>3.165303</td>\n",
       "    </tr>\n",
       "    <tr>\n",
       "      <th>67323</th>\n",
       "      <td>-0.984306</td>\n",
       "      <td>0.046746</td>\n",
       "      <td>0.400594</td>\n",
       "    </tr>\n",
       "    <tr>\n",
       "      <th>25303</th>\n",
       "      <td>0.085069</td>\n",
       "      <td>0.050226</td>\n",
       "      <td>-0.374703</td>\n",
       "    </tr>\n",
       "    <tr>\n",
       "      <th>80751</th>\n",
       "      <td>0.174317</td>\n",
       "      <td>0.011649</td>\n",
       "      <td>4.180446</td>\n",
       "    </tr>\n",
       "    <tr>\n",
       "      <th>28950</th>\n",
       "      <td>0.372650</td>\n",
       "      <td>1.031981</td>\n",
       "      <td>2.904160</td>\n",
       "    </tr>\n",
       "  </tbody>\n",
       "</table>\n",
       "</div>"
      ],
      "text/plain": [
       "             f0        f1        f2\n",
       "78638  0.602333 -0.445623  3.165303\n",
       "67323 -0.984306  0.046746  0.400594\n",
       "25303  0.085069  0.050226 -0.374703\n",
       "80751  0.174317  0.011649  4.180446\n",
       "28950  0.372650  1.031981  2.904160"
      ]
     },
     "execution_count": 20,
     "metadata": {},
     "output_type": "execute_result"
    }
   ],
   "source": [
    "features_train_0, features_valid_0, target_train_0, target_valid_0 = test_split(geo_data_0, 'product')\n",
    "\n",
    "features_train_0.head()"
   ]
  },
  {
   "cell_type": "code",
   "execution_count": 21,
   "metadata": {},
   "outputs": [
    {
     "name": "stdout",
     "output_type": "stream",
     "text": [
      "RMSE - 37.401957199217094\n"
     ]
    }
   ],
   "source": [
    "model = LinearRegression()\n",
    "\n",
    "model.fit(features_train_0, target_train_0)\n",
    "predicted_target_0 = model.predict(features_valid_0)\n",
    "print('RMSE -', mean_squared_error(target_valid_0, predicted_target_0)**0.5)"
   ]
  },
  {
   "cell_type": "code",
   "execution_count": 23,
   "metadata": {},
   "outputs": [
    {
     "name": "stdout",
     "output_type": "stream",
     "text": [
      "RMSE - 0.8874258342572864\n"
     ]
    }
   ],
   "source": [
    "features_train_1, features_valid_1, target_train_1, target_valid_1 = test_split(geo_data_1, 'product')\n",
    "model.fit(features_train_1, target_train_1)\n",
    "predicted_target_1 = model.predict(features_valid_1)\n",
    "print('RMSE -', mean_squared_error(target_valid_1, predicted_target_1)**0.5)\n",
    "\n"
   ]
  },
  {
   "cell_type": "code",
   "execution_count": 24,
   "metadata": {},
   "outputs": [
    {
     "name": "stdout",
     "output_type": "stream",
     "text": [
      "RMSE - 40.18553497171235\n"
     ]
    }
   ],
   "source": [
    "features_train_2, features_valid_2, target_train_2, target_valid_2 = test_split(geo_data_2, 'product')\n",
    "model.fit(features_train_2, target_train_2)\n",
    "predicted_target_2 = model.predict(features_valid_2)\n",
    "print('RMSE -', mean_squared_error(target_valid_2, predicted_target_2)**0.5)"
   ]
  },
  {
   "cell_type": "markdown",
   "metadata": {},
   "source": [
    "Изменение стандартных значений гиперпараметров не улучшило модель. Произведем вывод предсказанного запаса с реальным и выведем RMSE."
   ]
  },
  {
   "cell_type": "code",
   "execution_count": 25,
   "metadata": {},
   "outputs": [],
   "source": [
    "model = LinearRegression()\n",
    "\n",
    "def oil_predict(df, target_name):\n",
    "    features = df.drop([target_name] , axis=1)\n",
    "    target = df[target_name]\n",
    "    \n",
    "    features_train, features_valid, target_train, target_valid = train_test_split(\n",
    "    features, target, test_size=0.25, random_state=5062020)\n",
    "    \n",
    "    model.fit(features_train, target_train)\n",
    "    predicted_target = model.predict(features_valid)\n",
    "    data = {'real_product' : target_valid,\n",
    "            'predicted_product' : predicted_target         \n",
    "    }\n",
    "    data_frame = pd.DataFrame(data, columns = ['real_product', 'predicted_product'])\n",
    "    rmse = mean_squared_error(target_valid, predicted_target)**0.5\n",
    "    mean = data_frame['predicted_product'].mean()\n",
    "    oil_sum = data_frame['predicted_product'].sum()\n",
    "    return data_frame, rmse, mean, oil_sum"
   ]
  },
  {
   "cell_type": "code",
   "execution_count": 26,
   "metadata": {},
   "outputs": [
    {
     "name": "stdout",
     "output_type": "stream",
     "text": [
      "       real_product  predicted_product\n",
      "87351    145.407098         110.644337\n",
      "52805    131.589165          76.793446\n",
      "6583     101.596316         103.711077\n",
      "34986      8.123407          53.135348\n",
      "8253     169.834019         151.656408\n",
      "RMSE - 37.401957199217094\n",
      "Средний запас запасанного сырья - 92.52620585803338\n"
     ]
    }
   ],
   "source": [
    "geo_data_0_predicted, geo_data_0_rmse, geo_data_0_predicted_mean, geo_data_0_predicted_sum = oil_predict(geo_data_0, 'product')\n",
    "print(geo_data_0_predicted.head())\n",
    "print('RMSE -', geo_data_0_rmse)\n",
    "print('Средний запас запасанного сырья -', geo_data_0_predicted_mean)"
   ]
  },
  {
   "cell_type": "code",
   "execution_count": 27,
   "metadata": {},
   "outputs": [
    {
     "name": "stdout",
     "output_type": "stream",
     "text": [
      "       real_product  predicted_product\n",
      "87351     53.906522          54.336477\n",
      "52805      3.179103           3.756436\n",
      "6583      30.132364          31.266991\n",
      "34986     26.953261          26.692436\n",
      "8253      30.132364          31.128898\n",
      "RMSE - 0.8874258342572864\n",
      "Средний запас запасанного сырья - 68.27820207556354\n"
     ]
    }
   ],
   "source": [
    "geo_data_1_predicted, geo_data_1_rmse, geo_data_1_predicted_mean, geo_data_1_predicted_sum = oil_predict(geo_data_1, 'product')\n",
    "print(geo_data_1_predicted.head())\n",
    "print('RMSE -', geo_data_1_rmse)\n",
    "print('Средний запас запасанного сырья -', geo_data_1_predicted_mean)"
   ]
  },
  {
   "cell_type": "code",
   "execution_count": 28,
   "metadata": {},
   "outputs": [
    {
     "name": "stdout",
     "output_type": "stream",
     "text": [
      "       real_product  predicted_product\n",
      "87351    140.971569          62.929196\n",
      "52805    125.190694          98.323840\n",
      "6583      94.544056          79.920918\n",
      "34986    107.208380         104.706020\n",
      "8253     173.924418         114.066050\n",
      "RMSE - 40.18553497171235\n",
      "Средний запас запасанного сырья - 94.94294307153748\n"
     ]
    }
   ],
   "source": [
    "geo_data_2_predicted, geo_data_2_rmse, geo_data_2_predicted_mean, geo_data_2_predicted_sum = oil_predict(geo_data_2, 'product')\n",
    "print(geo_data_2_predicted.head())\n",
    "print('RMSE -', geo_data_2_rmse)\n",
    "print('Средний запас запасанного сырья -', geo_data_2_predicted_mean)"
   ]
  },
  {
   "cell_type": "code",
   "execution_count": 29,
   "metadata": {},
   "outputs": [
    {
     "name": "stdout",
     "output_type": "stream",
     "text": [
      "Суммарный предсказанный запас в позиции 0 - 2313155.1464508343\n",
      "Суммарный реальный запас в позиции 0 - 2313395.805667925\n",
      "\n",
      "Суммарный предсказанный запас в позиции 1 - 1706955.0518890887\n",
      "Суммарный реальный запас в позиции 1 - 1706710.3444370048\n",
      "\n",
      "Суммарный предсказанный запас в позиции 2 - 2373573.576788437\n",
      "Суммарный реальный запас в позиции 2 - 2378821.7815969232\n"
     ]
    }
   ],
   "source": [
    "print('Суммарный предсказанный запас в позиции 0 -', geo_data_0_predicted_sum)\n",
    "print('Суммарный реальный запас в позиции 0 -', geo_data_0_predicted['real_product'].sum())\n",
    "print()\n",
    "print('Суммарный предсказанный запас в позиции 1 -', geo_data_1_predicted_sum)\n",
    "print('Суммарный реальный запас в позиции 1 -', geo_data_1_predicted['real_product'].sum())\n",
    "print()\n",
    "print('Суммарный предсказанный запас в позиции 2 -', geo_data_2_predicted_sum)\n",
    "print('Суммарный реальный запас в позиции 2 -', geo_data_2_predicted['real_product'].sum())"
   ]
  },
  {
   "cell_type": "markdown",
   "metadata": {},
   "source": [
    "Вывод по шагу 2\n",
    "\n",
    "Данные предсказаний о количестве нефти по сумме примерно совпадают по сумме с предсказанными значениями. Лучше всего модель предсказала запасы во втором регионе (RMSE - 0.88), далее в первом и третьем соотвественно.\n",
    "\n",
    "Возможно утеряные данные из второго региона сказались на модели и она достаточно сильно переобучилась."
   ]
  },
  {
   "cell_type": "markdown",
   "metadata": {},
   "source": [
    "<div class=\"alert alert-block alert-success\">\n",
    "<b>Успех:</b> Модели обучены корректно. Радует, что ты активно используешь функции. Это помогает избежать дублирования кода, а значит уменьшает вероятность совершить ошибку/опечатку!\n",
    "</div>"
   ]
  },
  {
   "cell_type": "markdown",
   "metadata": {},
   "source": [
    "## Подготовка к расчёту прибыли"
   ]
  },
  {
   "cell_type": "code",
   "execution_count": 30,
   "metadata": {},
   "outputs": [],
   "source": [
    "budget = 1e+07\n",
    "chosen_points = 500\n",
    "best_points = 200\n",
    "price_per_barrel = 450"
   ]
  },
  {
   "cell_type": "code",
   "execution_count": 31,
   "metadata": {},
   "outputs": [
    {
     "name": "stdout",
     "output_type": "stream",
     "text": [
      "Средняя прибыль на лучшую точку - 50000.0 тыс.руб.\n",
      "Средний объем нефти на точку - 111.11111111111111 тыс. барелей\n",
      "Средний объем нефти на регион - 22222.222222222223 тыс. барелей\n"
     ]
    }
   ],
   "source": [
    "average_profit_per_point = budget / best_points\n",
    "print('Средняя прибыль на лучшую точку -', average_profit_per_point, 'тыс.руб.')\n",
    "\n",
    "average_barrels_per_point = average_profit_per_point  / price_per_barrel\n",
    "print('Средний объем нефти на точку -',average_barrels_per_point, 'тыс. барелей')\n",
    "\n",
    "average_barrels = budget / price_per_barrel\n",
    "print('Средний объем нефти на регион -',average_barrels, 'тыс. барелей')\n"
   ]
  },
  {
   "cell_type": "code",
   "execution_count": 32,
   "metadata": {},
   "outputs": [
    {
     "name": "stdout",
     "output_type": "stream",
     "text": [
      "Средний запас фактичекой нефти на скважину в регионе 1 92.50000000000001\n",
      "Средний запас фактичекой нефти на скважину в регионе 2 68.82500000000002\n",
      "Средний запас фактичекой нефти на скважину в регионе 3 95.00000000000004\n"
     ]
    }
   ],
   "source": [
    "#Добавил по запасам\n",
    "print('Средний запас фактичекой нефти на скважину в регионе 1', geo_data_0['product'].mean())\n",
    "print('Средний запас фактичекой нефти на скважину в регионе 2', geo_data_1['product'].mean())\n",
    "print('Средний запас фактичекой нефти на скважину в регионе 3', geo_data_2['product'].mean())\n"
   ]
  },
  {
   "cell_type": "markdown",
   "metadata": {},
   "source": [
    "Создадим функцию для расчета приыли на 500 разведанных точек"
   ]
  },
  {
   "cell_type": "code",
   "execution_count": 33,
   "metadata": {},
   "outputs": [],
   "source": [
    "def oil_profit_calculation(target, probabilities, count):\n",
    "    probs_sorted = probabilities.sort_values(ascending=False)\n",
    "    selected = target[probs_sorted.index][:count]\n",
    "    return price_per_barrel * selected.sum() - budget"
   ]
  },
  {
   "cell_type": "code",
   "execution_count": 35,
   "metadata": {},
   "outputs": [
    {
     "data": {
      "image/png": "[encoded data removed]",
      "text/plain": [
       "<Figure size 864x648 with 1 Axes>"
      ]
     },
     "metadata": {
      "needs_background": "light"
     },
     "output_type": "display_data"
    }
   ],
   "source": [
    "oil_hist(geo_data_0_predicted['predicted_product'], 200, 200, 500)"
   ]
  },
  {
   "cell_type": "code",
   "execution_count": 36,
   "metadata": {},
   "outputs": [
    {
     "data": {
      "image/png": "[encoded data removed]",
      "text/plain": [
       "<Figure size 864x648 with 1 Axes>"
      ]
     },
     "metadata": {
      "needs_background": "light"
     },
     "output_type": "display_data"
    }
   ],
   "source": [
    "oil_hist(geo_data_1_predicted['predicted_product'], 20, 150, 5000)"
   ]
  },
  {
   "cell_type": "code",
   "execution_count": 37,
   "metadata": {},
   "outputs": [
    {
     "data": {
      "image/png": "[encoded data removed]",
      "text/plain": [
       "<Figure size 864x648 with 1 Axes>"
      ]
     },
     "metadata": {
      "needs_background": "light"
     },
     "output_type": "display_data"
    }
   ],
   "source": [
    "oil_hist(geo_data_2_predicted['predicted_product'], 200, 200, 500)"
   ]
  },
  {
   "cell_type": "markdown",
   "metadata": {},
   "source": [
    "Вывод:\n",
    "\n",
    "Была подготовлена средняя оценка прибили за скважину и средний объем на скважину. И создана функция по расчету прибыли.\n",
    "\n",
    "Анализ средних объемов на скважину для каждого региона следующий.\n",
    "\n",
    "Изучены средние фактические запасы. Для первого и третьего - высокая вероятность окупить затраты. Разброс значений вокруг среднего 92.5 и 95 говорит нам о том, что существует достаточно много скважин, где запасы больше необходимого среднего."
   ]
  },
  {
   "cell_type": "markdown",
   "metadata": {},
   "source": [
    "<div class=\"alert alert-block alert-info\">\n",
    "\n",
    "<b>Совет: </b> В названиях константных переменных лучше использовать только БОЛЬШИЕ буквы. Это соглашение между программистами: https://pythonworld.ru/osnovy/pep-8-rukovodstvo-po-napisaniyu-koda-na-python.html#id29 .\n",
    "</div>\n",
    "\n",
    "<div class=\"alert alert-block alert-success\">\n",
    "<b>Успех:</b> Точка безубыточности найдена верно, сравнение проведено!\n",
    "</div>"
   ]
  },
  {
   "cell_type": "markdown",
   "metadata": {},
   "source": [
    "## Расчёт прибыли и рисков "
   ]
  },
  {
   "cell_type": "code",
   "execution_count": 38,
   "metadata": {},
   "outputs": [],
   "source": [
    "state = np.random.RandomState(5062020)\n",
    "def bootstrap_1000(target, probs):\n",
    "    values=[]\n",
    "    lost = 0\n",
    "    for i in range(1000):\n",
    "        target_sample = target.sample(replace=True, random_state=state, n=chosen_points)\n",
    "        probs_sample = probs[target_sample.index]\n",
    "        profit = oil_profit_calculation(target, probs_sample, best_points)\n",
    "        if profit < 0:\n",
    "            lost +=1\n",
    "        values.append(profit)\n",
    "    \n",
    "    values = pd.Series(values)\n",
    "    lower = values.quantile(0.025)\n",
    "    upper = values.quantile(0.975)\n",
    "    average = values.mean()\n",
    "    risk = lost / 1000\n",
    "    return average, lower, upper, risk"
   ]
  },
  {
   "cell_type": "markdown",
   "metadata": {},
   "source": [
    "<div class=\"alert alert-block alert-success\">\n",
    "<b>Успех:</b> Отлично, что для подсчета доверительного интервала использовался именно метод квантилей!\n",
    "</div>\n",
    "\n",
    "\n",
    "<div class=\"alert alert-block alert-info\">\n",
    "\n",
    "<b>Совет: </b> Риск можно было найти чуть проще: `(values < 0).mean()`, если объект типа pandas Series или numpy array.\n",
    "</div>"
   ]
  },
  {
   "cell_type": "code",
   "execution_count": 39,
   "metadata": {},
   "outputs": [
    {
     "name": "stdout",
     "output_type": "stream",
     "text": [
      "Данные по первому региону.\n",
      "Средняя прибыль по региону = 443250.40 тыс.руб.\n",
      "95% доверительный интервал от -44227.32 до 919246.01 тыс.руб.\n",
      "Процент риска 3.60%\n"
     ]
    }
   ],
   "source": [
    "average_0, lower_0, upper_0, risk_0 = bootstrap_1000(geo_data_0_predicted['real_product'], \n",
    "                                                     geo_data_0_predicted['predicted_product'])\n",
    "print('Данные по первому региону.')\n",
    "print('Средняя прибыль по региону = {:.2f} тыс.руб.'.format(average_0))\n",
    "print('95% доверительный интервал от {:.2f} до {:.2f} тыс.руб.'.format(lower_0, upper_0))\n",
    "print('Процент риска {:.2%}'.format(risk_0))"
   ]
  },
  {
   "cell_type": "code",
   "execution_count": 40,
   "metadata": {},
   "outputs": [
    {
     "name": "stdout",
     "output_type": "stream",
     "text": [
      "Данные по первому региону.\n",
      "Средняя прибыль по региону = 402869.66 тыс.руб.\n",
      "95% доверительный интервал от -7525.27 до 825916.72 тыс.руб.\n",
      "Процент риска 3.00%\n"
     ]
    }
   ],
   "source": [
    "average_1, lower_1, upper_1, risk_1 = bootstrap_1000(geo_data_1_predicted['real_product'], \n",
    "                                                     geo_data_1_predicted['predicted_product'])\n",
    "print('Данные по второму региону.')\n",
    "print('Средняя прибыль по региону = {:.2f} тыс.руб.'.format(average_1))\n",
    "print('95% доверительный интервал от {:.2f} до {:.2f} тыс.руб.'.format(lower_1, upper_1))\n",
    "print('Процент риска {:.2%}'.format(risk_1))"
   ]
  },
  {
   "cell_type": "code",
   "execution_count": 41,
   "metadata": {},
   "outputs": [
    {
     "name": "stdout",
     "output_type": "stream",
     "text": [
      "Данные по первому региону.\n",
      "Средняя прибыль по региону = 400201.63 тыс.руб.\n",
      "95% доверительный интервал от -128526.18 до 896828.78 тыс.руб.\n",
      "Процент риска 6.60%\n"
     ]
    }
   ],
   "source": [
    "average_2, lower_2, upper_2, risk_2 = bootstrap_1000(geo_data_2_predicted['real_product'], \n",
    "                                                     geo_data_2_predicted['predicted_product'])\n",
    "print('Данные по третьему региону.')\n",
    "print('Средняя прибыль по региону = {:.2f} тыс.руб.'.format(average_2))\n",
    "print('95% доверительный интервал от {:.2f} до {:.2f} тыс.руб.'.format(lower_2, upper_2))\n",
    "print('Процент риска {:.2%}'.format(risk_2))"
   ]
  },
  {
   "cell_type": "markdown",
   "metadata": {},
   "source": [
    " UPD\n",
    " Вывод:\n",
    "\n",
    "Данные были обработаны и рассчитаны прибыль, интервал и риски.\n",
    "\n",
    "Проведена исследовательская работа по всем регоинам. Ни один регион не проходит по рискам убытков в 2.5%, следовательно все регионы экономически не целесообраазны. Однако второй регион имеет самые лучшие показатели, и погрешность по убыткам составляет 0.5%"
   ]
  },
  {
   "cell_type": "markdown",
   "metadata": {},
   "source": [
    "## Чек-лист готовности проекта"
   ]
  },
  {
   "cell_type": "markdown",
   "metadata": {},
   "source": [
    "Поставьте 'x' в выполненных пунктах. Далее нажмите Shift+Enter."
   ]
  },
  {
   "cell_type": "markdown",
   "metadata": {},
   "source": [
    "- [x]  Jupyter Notebook открыт\n",
    "- [x]  Весь код выполняется без ошибок\n",
    "- [x]  Ячейки с кодом расположены в порядке исполнения\n",
    "- [x]  Выполнен шаг 1: данные подготовлены\n",
    "- [x]  Выполнен шаг 2: модели обучены и проверены\n",
    "    - [x]  Данные корректно разбиты на обучающую и валидационную выборки\n",
    "    - [x]  Модели обучены, предсказания сделаны\n",
    "    - [x]  Предсказания и правильные ответы на валидационной выборке сохранены\n",
    "    - [x]  На экране напечатаны результаты\n",
    "    - [x]  Сделаны выводы\n",
    "- [x]  Выполнен шаг 3: проведена подготовка к расчёту прибыли\n",
    "    - [x]  Для всех ключевых значений созданы константы Python\n",
    "    - [x]  Посчитано минимальное среднее количество продукта в месторождениях региона, достаточное для разработки\n",
    "    - [x]  По предыдущему пункту сделаны выводы\n",
    "    - [x]  Написана функция расчёта прибыли\n",
    "- [x]  Выполнен шаг 4: посчитаны риски и прибыль\n",
    "    - [x]  Проведена процедура *Bootstrap*\n",
    "    - [x]  Все параметры бутстрепа соответствуют условию\n",
    "    - [x]  Найдены все нужные величины\n",
    "    - [x]  Предложен регион для разработки месторождения\n",
    "    - [x]  Выбор региона обоснован"
   ]
  },
  {
   "cell_type": "markdown",
   "metadata": {},
   "source": [
    "Второй регион получился одним из лучших по показателям предсказывания"
   ]
  },
  {
   "cell_type": "code",
   "execution_count": null,
   "metadata": {},
   "outputs": [],
   "source": []
  }
 ],
 "metadata": {
  "ExecuteTimeLog": [
   {
    "duration": 1510,
    "start_time": "2024-03-20T15:13:19.420Z"
   },
   {
    "duration": 527,
    "start_time": "2024-03-20T15:14:35.150Z"
   },
   {
    "duration": 569,
    "start_time": "2024-03-20T15:14:44.644Z"
   },
   {
    "duration": 572,
    "start_time": "2024-03-20T15:14:59.767Z"
   },
   {
    "duration": 8,
    "start_time": "2024-03-21T11:00:54.001Z"
   },
   {
    "duration": 1586,
    "start_time": "2024-03-21T11:01:17.309Z"
   },
   {
    "duration": 0,
    "start_time": "2024-03-21T11:01:18.896Z"
   },
   {
    "duration": 0,
    "start_time": "2024-03-21T11:01:18.898Z"
   },
   {
    "duration": 0,
    "start_time": "2024-03-21T11:01:18.899Z"
   },
   {
    "duration": 0,
    "start_time": "2024-03-21T11:01:18.900Z"
   },
   {
    "duration": 0,
    "start_time": "2024-03-21T11:01:18.901Z"
   },
   {
    "duration": 0,
    "start_time": "2024-03-21T11:01:18.901Z"
   },
   {
    "duration": 0,
    "start_time": "2024-03-21T11:01:18.902Z"
   },
   {
    "duration": 1388,
    "start_time": "2024-03-21T11:01:29.296Z"
   },
   {
    "duration": 555,
    "start_time": "2024-03-21T11:01:30.686Z"
   },
   {
    "duration": 607,
    "start_time": "2024-03-21T11:01:31.243Z"
   },
   {
    "duration": 566,
    "start_time": "2024-03-21T11:01:31.852Z"
   },
   {
    "duration": 3,
    "start_time": "2024-03-21T11:01:32.420Z"
   },
   {
    "duration": 60,
    "start_time": "2024-03-21T11:01:32.425Z"
   },
   {
    "duration": 30,
    "start_time": "2024-03-21T11:01:32.487Z"
   },
   {
    "duration": 36,
    "start_time": "2024-03-21T11:01:32.519Z"
   },
   {
    "duration": 16,
    "start_time": "2024-03-21T11:02:01.239Z"
   },
   {
    "duration": 101,
    "start_time": "2024-03-21T11:03:50.889Z"
   },
   {
    "duration": 3,
    "start_time": "2024-03-21T11:03:52.532Z"
   },
   {
    "duration": 398,
    "start_time": "2024-03-21T11:03:54.634Z"
   },
   {
    "duration": 545,
    "start_time": "2024-03-21T11:04:28.964Z"
   },
   {
    "duration": 387,
    "start_time": "2024-03-21T11:04:40.626Z"
   },
   {
    "duration": 238,
    "start_time": "2024-03-21T11:05:03.249Z"
   },
   {
    "duration": 427,
    "start_time": "2024-03-21T11:05:12.950Z"
   },
   {
    "duration": 581,
    "start_time": "2024-03-21T11:05:33.488Z"
   },
   {
    "duration": 3,
    "start_time": "2024-03-21T11:08:01.842Z"
   },
   {
    "duration": 18,
    "start_time": "2024-03-21T11:08:12.856Z"
   },
   {
    "duration": 19,
    "start_time": "2024-03-21T12:17:52.330Z"
   },
   {
    "duration": 15,
    "start_time": "2024-03-21T12:18:36.935Z"
   },
   {
    "duration": 100,
    "start_time": "2024-03-21T12:19:09.483Z"
   },
   {
    "duration": 25,
    "start_time": "2024-03-21T12:21:09.810Z"
   },
   {
    "duration": 24,
    "start_time": "2024-03-21T12:21:45.276Z"
   },
   {
    "duration": 5,
    "start_time": "2024-03-21T12:23:09.256Z"
   },
   {
    "duration": 52,
    "start_time": "2024-03-21T12:23:20.631Z"
   },
   {
    "duration": 27,
    "start_time": "2024-03-21T12:23:39.446Z"
   },
   {
    "duration": 27,
    "start_time": "2024-03-21T12:23:51.346Z"
   },
   {
    "duration": 6,
    "start_time": "2024-03-21T12:24:07.362Z"
   },
   {
    "duration": 4,
    "start_time": "2024-03-21T12:24:59.588Z"
   },
   {
    "duration": 5,
    "start_time": "2024-03-21T12:25:13.846Z"
   },
   {
    "duration": 6,
    "start_time": "2024-03-21T12:25:25.976Z"
   },
   {
    "duration": 3,
    "start_time": "2024-03-21T12:25:53.694Z"
   },
   {
    "duration": 391,
    "start_time": "2024-03-21T12:26:02.283Z"
   },
   {
    "duration": 399,
    "start_time": "2024-03-21T12:26:06.278Z"
   },
   {
    "duration": 173,
    "start_time": "2024-03-21T12:26:20.348Z"
   },
   {
    "duration": 388,
    "start_time": "2024-03-21T12:26:34.696Z"
   },
   {
    "duration": 5,
    "start_time": "2024-03-21T12:27:16.300Z"
   },
   {
    "duration": 973,
    "start_time": "2024-03-21T12:27:26.531Z"
   },
   {
    "duration": 866,
    "start_time": "2024-03-21T12:27:35.615Z"
   },
   {
    "duration": 855,
    "start_time": "2024-03-21T12:27:43.678Z"
   }
  ],
  "kernelspec": {
   "display_name": "Python 3 (ipykernel)",
   "language": "python",
   "name": "python3"
  },
  "language_info": {
   "codemirror_mode": {
    "name": "ipython",
    "version": 3
   },
   "file_extension": ".py",
   "mimetype": "text/x-python",
   "name": "python",
   "nbconvert_exporter": "python",
   "pygments_lexer": "ipython3",
   "version": "3.9.5"
  },
  "toc": {
   "base_numbering": 1,
   "nav_menu": {},
   "number_sections": true,
   "sideBar": true,
   "skip_h1_title": true,
   "title_cell": "Table of Contents",
   "title_sidebar": "Contents",
   "toc_cell": false,
   "toc_position": {},
   "toc_section_display": true,
   "toc_window_display": false
  }
 },
 "nbformat": 4,
 "nbformat_minor": 2
}
